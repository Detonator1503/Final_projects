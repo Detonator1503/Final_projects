{
  "nbformat": 4,
  "nbformat_minor": 0,
  "metadata": {
    "colab": {
      "provenance": [],
      "authorship_tag": "ABX9TyO0Gqi99JVWLYgvstmc/525",
      "include_colab_link": true
    },
    "kernelspec": {
      "name": "python3",
      "display_name": "Python 3"
    },
    "language_info": {
      "name": "python"
    }
  },
  "cells": [
    {
      "cell_type": "markdown",
      "metadata": {
        "id": "view-in-github",
        "colab_type": "text"
      },
      "source": [
        "<a href=\"https://colab.research.google.com/github/Detonator1503/Final_projects/blob/main/Bus_Ticket_Counter.ipynb\" target=\"_parent\"><img src=\"https://colab.research.google.com/assets/colab-badge.svg\" alt=\"Open In Colab\"/></a>"
      ]
    },
    {
      "cell_type": "code",
      "source": [
        "from datetime import datetime\n",
        "import pytz\n",
        "class Ticket:\n",
        "  \"\"\"\n",
        "  This is the class which creates the ticket according to the indexing of the stops in the list\n",
        "\n",
        "\"\"\"\n",
        "  passanger_count = 0\n",
        "  count = 0\n",
        "  distance = ['BORIVALI NANCY COLONY',\t\n",
        "'BORIVALI SUKURWADI',\n",
        "'SAMATANAGAR KANDIVALI EAST',\t\n",
        "'PUSHPA PARK MALAD',\t\n",
        "'GOREGAON EAST POLICE STN.',\t\n",
        "'S.R.P. COLONY JOGESHWARI',\t\n",
        "'GUNDAVALI ANDHERI EAST',\t\n",
        "'DOMESTIC AIRPORT',\t\n",
        "'VILEPARLE (E) SAIBABA MANDIR',\t\n",
        "'WAKOLA POLICE STN.',\t\n",
        "'MARATHA COLONY',\t\n",
        "'KHAR EAST TEACHERS COLONY',\t\n",
        "'BANDRA HOUSING BOARD OFFICE',\t\n",
        "'DHARAVI',\t\n",
        "'PRIYADARSHANI CHOWK',\t\n",
        "'SION',\t\n",
        "'ANUSHAKTI NAGAR',\t\n",
        "'MAITRI PARK',\t\n",
        "'MANKHURD RLY. STN.',\t\n",
        "'NERUL FATA',\t\n",
        "'VASHI HIGHWAY',\t\n",
        "'NERUL',\t\n",
        "'KOKAN BHAVAN',\t\n",
        "'KHARGHAR',\t\n",
        "'KHAR GHAR',\t\n",
        "'KOKAN BHAVAN FATA',\t\n",
        "'KALAMBOLI',\t\n",
        "'EXPRESS WAY TOLL NAKA',\t\n",
        "'KAMOTHE',\n",
        "'KALAMBOLI HIGHWAY',\t\n",
        "'FOOD MALL',\t\n",
        "'LONAVALA FATA',\t\n",
        "'TOLL NAKA',\t\n",
        "'EXPRESS WAY END',\t\n",
        "'WAKAD',\n",
        "'HINJWADI FATA',\t\n",
        "'TOLL NAKA',\t\n",
        "'INDIRA COLLEGE WAKAD',\t\n",
        "'BALEWADI',\t\n",
        "'CHANDANI CHOWK',\t\n",
        "'VANAJ',\t\n",
        "'KOTHRUD CHATRAPATI SHIVAJIMAHARAJ PUTALA',\t\n",
        "'S.N.D.T. COLLEGE',\t\n",
        "'DECCAN GYMKHANA',\t\n",
        "'NAL STOP',\t\n",
        "'SWARGATE, PUNE']\n",
        "\n",
        "\n",
        "\n",
        "\n",
        "  def __init__(self, From, To, Adults, Childrens = 0):\n",
        "    self.From = From.upper()\n",
        "    self.To = To.upper()\n",
        "    self.Adults = Adults \n",
        "    self.Childrens = Childrens\n",
        "    self.Passengers = (f\"Adults : {Adults}, Child : {Childrens}\")\n",
        "    try:\n",
        "      self.x = abs(Ticket.distance.index(self.From) - (Ticket.distance.index(self.To)))\n",
        "      self.fare = self.x*10* (Adults +(Childrens/2))\n",
        "      Ticket.passanger_count+= (Adults + Childrens) \n",
        "      self.count_tickets()\n",
        "      self.print_ticket()\n",
        "    except Exception as e:\n",
        "      print(str(e).replace(\"list\", \"route\"))\n",
        "\n",
        "  def count_tickets(self):\n",
        "    Ticket.count +=1 \n",
        "\n",
        "  def print_ticket(self):\n",
        "      print(f\"\"\" ==========================Ticket============================\n",
        "                Bus : BNC to Swargate\n",
        "                Passangers : {self.Passengers}\n",
        "                time: {str(datetime.now(pytz.timezone(\"Asia/Kolkata\")))}\n",
        "                From : {self.From} To: {self.To}  Total Passangers: {self.Adults +self.Childrens}\n",
        "                Total Fare : {self.fare}\n",
        "\n",
        "                \"\"\")\n",
        "    \n",
        "        "
      ],
      "metadata": {
        "id": "SqJOW35506lC"
      },
      "execution_count": null,
      "outputs": []
    },
    {
      "cell_type": "code",
      "source": [
        "pass1 = Ticket(\"Nal Stop\", \"sion\", 3, 2)\n",
        "\n"
      ],
      "metadata": {
        "colab": {
          "base_uri": "https://localhost:8080/"
        },
        "id": "7-ZEme9qeUMt",
        "outputId": "c999e0ad-8f37-4772-cf9a-3c686451363c"
      },
      "execution_count": null,
      "outputs": [
        {
          "output_type": "stream",
          "name": "stdout",
          "text": [
            " ==========================Ticket============================\n",
            "                Bus : BNC to Swargate\n",
            "                Passangers : Adults : 3, Child : 2\n",
            "                time: 2022-10-15 18:14:31.004727+05:30\n",
            "                From : NAL STOP To: SION  Total Passangers: 5\n",
            "                Total Fare : 1160.0\n",
            "\n",
            "                \n"
          ]
        }
      ]
    },
    {
      "cell_type": "code",
      "source": [
        "pass2 = Ticket(\"nerul\", \"panvel\", 1)\n"
      ],
      "metadata": {
        "colab": {
          "base_uri": "https://localhost:8080/"
        },
        "id": "uF0K2bbmrLVU",
        "outputId": "6ded5077-1e14-4803-ddff-f259325fe871"
      },
      "execution_count": null,
      "outputs": [
        {
          "output_type": "stream",
          "name": "stdout",
          "text": [
            "'PANVEL' is not in route\n"
          ]
        }
      ]
    },
    {
      "cell_type": "code",
      "source": [
        "Ticket.count"
      ],
      "metadata": {
        "colab": {
          "base_uri": "https://localhost:8080/"
        },
        "id": "kUJXpVl3riEl",
        "outputId": "78c13578-0599-4863-ac80-a7948fd97609"
      },
      "execution_count": null,
      "outputs": [
        {
          "output_type": "execute_result",
          "data": {
            "text/plain": [
              "1"
            ]
          },
          "metadata": {},
          "execution_count": 13
        }
      ]
    },
    {
      "cell_type": "code",
      "source": [
        "pass3 = Ticket(\"nerul\", \"swargate, pune\", 3)\n",
        "\n",
        "\n"
      ],
      "metadata": {
        "colab": {
          "base_uri": "https://localhost:8080/"
        },
        "id": "JtmKmLsAt853",
        "outputId": "fba39904-fe13-478d-e17a-d22bed1f3123"
      },
      "execution_count": null,
      "outputs": [
        {
          "output_type": "stream",
          "name": "stdout",
          "text": [
            " ==========================Ticket============================\n",
            "                Bus : BNC to Swargate\n",
            "                Passangers : Adults : 3, Child : 0\n",
            "                time: 2022-10-15 18:14:40.399411+05:30\n",
            "                From : NERUL To: SWARGATE, PUNE  Total Passangers: 3\n",
            "                Total Fare : 720.0\n",
            "\n",
            "                \n"
          ]
        }
      ]
    },
    {
      "cell_type": "code",
      "source": [
        "pass4 = Ticket('BORIVALI NANCY COLONY', 'TOLL NAKA', 1)"
      ],
      "metadata": {
        "colab": {
          "base_uri": "https://localhost:8080/"
        },
        "id": "A6oXJW2yvG_z",
        "outputId": "f1e1bcf0-4cb2-4dc1-c946-12abe82904fc"
      },
      "execution_count": null,
      "outputs": [
        {
          "output_type": "stream",
          "name": "stdout",
          "text": [
            " ==========================Ticket============================\n",
            "                Bus : BNC to Swargate\n",
            "                Passangers : Adults : 1, Child : 0\n",
            "                time: 2022-10-15 18:14:42.818645+05:30\n",
            "                From : BORIVALI NANCY COLONY To: TOLL NAKA  Total Passangers: 1\n",
            "                Total Fare : 320.0\n",
            "\n",
            "                \n"
          ]
        }
      ]
    },
    {
      "cell_type": "code",
      "source": [
        "Ticket.count"
      ],
      "metadata": {
        "colab": {
          "base_uri": "https://localhost:8080/"
        },
        "id": "ydG9pR1M3A-m",
        "outputId": "6b301d00-5ee9-42dd-b227-01e0bfe2dd45"
      },
      "execution_count": null,
      "outputs": [
        {
          "output_type": "execute_result",
          "data": {
            "text/plain": [
              "3"
            ]
          },
          "metadata": {},
          "execution_count": 16
        }
      ]
    },
    {
      "cell_type": "code",
      "source": [
        "Ticket.passanger_count"
      ],
      "metadata": {
        "id": "GH4RqFe37kwy",
        "colab": {
          "base_uri": "https://localhost:8080/"
        },
        "outputId": "6c58ab04-0ebb-49c9-97cd-4eb50f3b8e3c"
      },
      "execution_count": null,
      "outputs": [
        {
          "output_type": "execute_result",
          "data": {
            "text/plain": [
              "9"
            ]
          },
          "metadata": {},
          "execution_count": 18
        }
      ]
    },
    {
      "cell_type": "code",
      "source": [],
      "metadata": {
        "id": "aFOe_ZnsrROw"
      },
      "execution_count": null,
      "outputs": []
    }
  ]
}